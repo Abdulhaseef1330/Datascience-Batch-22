{
 "cells": [
  {
   "cell_type": "code",
   "execution_count": 1,
   "id": "c6396da8",
   "metadata": {},
   "outputs": [
    {
     "data": {
      "text/plain": [
       "['apple', 'orange', 'banana', 'mango']"
      ]
     },
     "execution_count": 1,
     "metadata": {},
     "output_type": "execute_result"
    }
   ],
   "source": [
    "fruit=['apple','orange','banana','mango']\n",
    "fruit"
   ]
  },
  {
   "cell_type": "markdown",
   "id": "4ec7ce74",
   "metadata": {},
   "source": [
    "#APPEND"
   ]
  },
  {
   "cell_type": "code",
   "execution_count": 2,
   "id": "b1909b2b",
   "metadata": {},
   "outputs": [
    {
     "name": "stdout",
     "output_type": "stream",
     "text": [
      "['apple', 'orange', 'banana', 'mango', 'goa', 'fig']\n"
     ]
    }
   ],
   "source": [
    "fruit.append('goa')\n",
    "fruit.append('fig')\n",
    "print(fruit)"
   ]
  },
  {
   "cell_type": "markdown",
   "id": "2d56e22e",
   "metadata": {},
   "source": [
    "#REMOVE"
   ]
  },
  {
   "cell_type": "code",
   "execution_count": 3,
   "id": "f1ad009f",
   "metadata": {},
   "outputs": [
    {
     "data": {
      "text/plain": [
       "['apple', 'orange', 'banana', 'mango', 'fig']"
      ]
     },
     "execution_count": 3,
     "metadata": {},
     "output_type": "execute_result"
    }
   ],
   "source": [
    "fruit.remove('goa')\n",
    "fruit"
   ]
  },
  {
   "cell_type": "markdown",
   "id": "0c594aea",
   "metadata": {},
   "source": [
    "#REVERSE"
   ]
  },
  {
   "cell_type": "code",
   "execution_count": 4,
   "id": "0ed7d8e3",
   "metadata": {
    "scrolled": true
   },
   "outputs": [
    {
     "name": "stdout",
     "output_type": "stream",
     "text": [
      "['fig', 'mango', 'banana', 'orange', 'apple']\n"
     ]
    }
   ],
   "source": [
    "fruit.reverse()\n",
    "print(fruit)"
   ]
  },
  {
   "cell_type": "markdown",
   "id": "2c53d961",
   "metadata": {},
   "source": [
    "#SORT"
   ]
  },
  {
   "cell_type": "code",
   "execution_count": 5,
   "id": "10aa359e",
   "metadata": {},
   "outputs": [
    {
     "name": "stdout",
     "output_type": "stream",
     "text": [
      "['apple', 'banana', 'fig', 'mango', 'orange']\n"
     ]
    }
   ],
   "source": [
    "fruit.sort()\n",
    "print(fruit)"
   ]
  },
  {
   "cell_type": "code",
   "execution_count": 6,
   "id": "c75d0961",
   "metadata": {},
   "outputs": [
    {
     "name": "stdout",
     "output_type": "stream",
     "text": [
      "['apple', 'banana', 'fig', 'mango', 'orange', 'apple', 'apple']\n"
     ]
    }
   ],
   "source": [
    "fruit.append('apple')\n",
    "fruit.append('apple')\n",
    "print(fruit)"
   ]
  },
  {
   "cell_type": "markdown",
   "id": "ee4deaae",
   "metadata": {},
   "source": [
    "#COUNT"
   ]
  },
  {
   "cell_type": "code",
   "execution_count": 9,
   "id": "944d528a",
   "metadata": {},
   "outputs": [
    {
     "data": {
      "text/plain": [
       "[1, 2, 3, 3, 3, 4, 2, 5, 3, 1, 5, 6, 4, 8, 6, 6]"
      ]
     },
     "execution_count": 9,
     "metadata": {},
     "output_type": "execute_result"
    }
   ],
   "source": [
    "lst =[1,2,3,3,3,4,2,5,3,1,5,6,4,8,6,6]\n",
    "lst"
   ]
  },
  {
   "cell_type": "code",
   "execution_count": 10,
   "id": "9abebf86",
   "metadata": {},
   "outputs": [
    {
     "data": {
      "text/plain": [
       "3"
      ]
     },
     "execution_count": 10,
     "metadata": {},
     "output_type": "execute_result"
    }
   ],
   "source": [
    "lst.count(6)"
   ]
  },
  {
   "cell_type": "code",
   "execution_count": 15,
   "id": "3fb11b59",
   "metadata": {},
   "outputs": [
    {
     "data": {
      "text/plain": [
       "[1, 2, 3, 4, 5]"
      ]
     },
     "execution_count": 15,
     "metadata": {},
     "output_type": "execute_result"
    }
   ],
   "source": [
    "lst =[1,2,3,4,5]\n",
    "lst"
   ]
  },
  {
   "cell_type": "markdown",
   "id": "8448a12f",
   "metadata": {},
   "source": [
    "#INSERT"
   ]
  },
  {
   "cell_type": "code",
   "execution_count": 16,
   "id": "6dc0d8ab",
   "metadata": {},
   "outputs": [
    {
     "data": {
      "text/plain": [
       "[1, 2, 3, 4, 5, 7]"
      ]
     },
     "execution_count": 16,
     "metadata": {},
     "output_type": "execute_result"
    }
   ],
   "source": [
    "lst.insert(6,7)\n",
    "lst"
   ]
  },
  {
   "cell_type": "markdown",
   "id": "e507415d",
   "metadata": {},
   "source": [
    "#POP"
   ]
  },
  {
   "cell_type": "code",
   "execution_count": 17,
   "id": "33eef01c",
   "metadata": {},
   "outputs": [
    {
     "data": {
      "text/plain": [
       "[1, 3, 4, 5, 7]"
      ]
     },
     "execution_count": 17,
     "metadata": {},
     "output_type": "execute_result"
    }
   ],
   "source": [
    "lst.pop(1)\n",
    "lst"
   ]
  },
  {
   "cell_type": "markdown",
   "id": "436093c1",
   "metadata": {},
   "source": [
    "#CLEAR"
   ]
  },
  {
   "cell_type": "code",
   "execution_count": 18,
   "id": "4221a8bb",
   "metadata": {},
   "outputs": [
    {
     "name": "stdout",
     "output_type": "stream",
     "text": [
      "[]\n"
     ]
    }
   ],
   "source": [
    "lst.clear()\n",
    "print(lst)"
   ]
  },
  {
   "cell_type": "markdown",
   "id": "92646a5b",
   "metadata": {},
   "source": [
    "#COPY"
   ]
  },
  {
   "cell_type": "code",
   "execution_count": 19,
   "id": "9e64d6aa",
   "metadata": {},
   "outputs": [
    {
     "name": "stdout",
     "output_type": "stream",
     "text": [
      "[1, 2, 3, 4, 5]\n"
     ]
    }
   ],
   "source": [
    "lst=[1,2,3,4,5]\n",
    "lst1=lst.copy()\n",
    "print(lst1)"
   ]
  },
  {
   "cell_type": "markdown",
   "id": "3a0f5e15",
   "metadata": {},
   "source": [
    "#EXTEND"
   ]
  },
  {
   "cell_type": "code",
   "execution_count": 21,
   "id": "f076c929",
   "metadata": {},
   "outputs": [
    {
     "name": "stdout",
     "output_type": "stream",
     "text": [
      "[1, 2, 3, 4, 5, 6, 7, 8]\n"
     ]
    }
   ],
   "source": [
    "lst=[1,2,3,4]\n",
    "lst1=[5,6,7,8]\n",
    "lst.extend(lst1)\n",
    "print(lst)"
   ]
  },
  {
   "cell_type": "markdown",
   "id": "f344801b",
   "metadata": {},
   "source": [
    "#INDEX"
   ]
  },
  {
   "cell_type": "code",
   "execution_count": 22,
   "id": "6104f8d8",
   "metadata": {},
   "outputs": [
    {
     "data": {
      "text/plain": [
       "2"
      ]
     },
     "execution_count": 22,
     "metadata": {},
     "output_type": "execute_result"
    }
   ],
   "source": [
    "lst.index(3)"
   ]
  },
  {
   "cell_type": "code",
   "execution_count": null,
   "id": "a36201b4",
   "metadata": {},
   "outputs": [],
   "source": []
  }
 ],
 "metadata": {
  "kernelspec": {
   "display_name": "Python 3 (ipykernel)",
   "language": "python",
   "name": "python3"
  },
  "language_info": {
   "codemirror_mode": {
    "name": "ipython",
    "version": 3
   },
   "file_extension": ".py",
   "mimetype": "text/x-python",
   "name": "python",
   "nbconvert_exporter": "python",
   "pygments_lexer": "ipython3",
   "version": "3.11.5"
  }
 },
 "nbformat": 4,
 "nbformat_minor": 5
}
